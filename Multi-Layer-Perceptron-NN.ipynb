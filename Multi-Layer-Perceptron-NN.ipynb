{
 "cells": [
  {
   "cell_type": "code",
   "execution_count": 1,
   "metadata": {
    "scrolled": false
   },
   "outputs": [],
   "source": [
    "import tensorflow as tf"
   ]
  },
  {
   "cell_type": "code",
   "execution_count": 2,
   "metadata": {},
   "outputs": [
    {
     "name": "stdout",
     "output_type": "stream",
     "text": [
      "WARNING:tensorflow:From <ipython-input-2-4e25ee396bc7>:2: read_data_sets (from tensorflow.contrib.learn.python.learn.datasets.mnist) is deprecated and will be removed in a future version.\n",
      "Instructions for updating:\n",
      "Please use alternatives such as official/mnist/dataset.py from tensorflow/models.\n",
      "WARNING:tensorflow:From /home/onepanel/.conda/lib/python3.6/site-packages/tensorflow/contrib/learn/python/learn/datasets/mnist.py:260: maybe_download (from tensorflow.contrib.learn.python.learn.datasets.base) is deprecated and will be removed in a future version.\n",
      "Instructions for updating:\n",
      "Please write your own downloading logic.\n",
      "WARNING:tensorflow:From /home/onepanel/.conda/lib/python3.6/site-packages/tensorflow/contrib/learn/python/learn/datasets/mnist.py:262: extract_images (from tensorflow.contrib.learn.python.learn.datasets.mnist) is deprecated and will be removed in a future version.\n",
      "Instructions for updating:\n",
      "Please use tf.data to implement this functionality.\n",
      "Extracting MNIST_data/train-images-idx3-ubyte.gz\n",
      "WARNING:tensorflow:From /home/onepanel/.conda/lib/python3.6/site-packages/tensorflow/contrib/learn/python/learn/datasets/mnist.py:267: extract_labels (from tensorflow.contrib.learn.python.learn.datasets.mnist) is deprecated and will be removed in a future version.\n",
      "Instructions for updating:\n",
      "Please use tf.data to implement this functionality.\n",
      "Extracting MNIST_data/train-labels-idx1-ubyte.gz\n",
      "WARNING:tensorflow:From /home/onepanel/.conda/lib/python3.6/site-packages/tensorflow/contrib/learn/python/learn/datasets/mnist.py:110: dense_to_one_hot (from tensorflow.contrib.learn.python.learn.datasets.mnist) is deprecated and will be removed in a future version.\n",
      "Instructions for updating:\n",
      "Please use tf.one_hot on tensors.\n",
      "Extracting MNIST_data/t10k-images-idx3-ubyte.gz\n",
      "Extracting MNIST_data/t10k-labels-idx1-ubyte.gz\n",
      "WARNING:tensorflow:From /home/onepanel/.conda/lib/python3.6/site-packages/tensorflow/contrib/learn/python/learn/datasets/mnist.py:290: DataSet.__init__ (from tensorflow.contrib.learn.python.learn.datasets.mnist) is deprecated and will be removed in a future version.\n",
      "Instructions for updating:\n",
      "Please use alternatives such as official/mnist/dataset.py from tensorflow/models.\n"
     ]
    }
   ],
   "source": [
    "from tensorflow.examples.tutorials.mnist import input_data\n",
    "mnist = input_data.read_data_sets(\"MNIST_data\", one_hot=True)"
   ]
  },
  {
   "cell_type": "markdown",
   "metadata": {},
   "source": [
    "### What are we going to do\n",
    "\n",
    "We are going to pretend as if we have a sophisticated NN (without CNN brain)\n",
    "1. Hyperparameters\n",
    "2. Network Parameters\n",
    "3. TF Graph Input\n",
    "4. MLP Model\n",
    "5. Weights, Biases, Cost , Optimizer\n",
    "6. Running and evaluating the accuracy"
   ]
  },
  {
   "cell_type": "code",
   "execution_count": 3,
   "metadata": {},
   "outputs": [],
   "source": [
    "# Parameters\n",
    "learning_rate   = 0.01\n",
    "training_epochs = 150\n",
    "batch_size      = 100"
   ]
  },
  {
   "cell_type": "code",
   "execution_count": 4,
   "metadata": {},
   "outputs": [],
   "source": [
    "# Network Parameters\n",
    "n_hidden_1 = 256\n",
    "n_hidden_2 = 256\n",
    "n_input    = 784\n",
    "n_classes  = 10\n",
    "n_samples  = mnist.train.num_examples"
   ]
  },
  {
   "cell_type": "code",
   "execution_count": 5,
   "metadata": {},
   "outputs": [],
   "source": [
    "# TF Graph Input\n",
    "x = tf.placeholder(\"float\", [None, n_input])\n",
    "y = tf.placeholder(\"float\", [None, n_classes])"
   ]
  },
  {
   "cell_type": "code",
   "execution_count": 6,
   "metadata": {},
   "outputs": [],
   "source": [
    "# Multi Layer Perceptron Model\n",
    "def multilayer_perceptron(x, weights, biases):\n",
    "    '''\n",
    "    Add explanation\n",
    "    \n",
    "    '''\n",
    "    # First hidden layer with RELU activation function\n",
    "    layer_1 = tf.add(tf.matmul(x, weights['h1']), biases['b1'])\n",
    "    layer_1 = tf.nn.relu(layer_1)\n",
    "    \n",
    "    # Second layer\n",
    "    layer_2 = tf.add(tf.matmul(layer_1, weights['h2']), biases['b2'])\n",
    "    layer_2 = tf.nn.relu(layer_2)\n",
    "    \n",
    "    # Final output\n",
    "    \n",
    "    out_layer = tf.add(tf.matmul(layer_2, weights['out']), biases['out'])\n",
    "    return out_layer\n"
   ]
  },
  {
   "cell_type": "code",
   "execution_count": 7,
   "metadata": {},
   "outputs": [],
   "source": [
    "# weights and biases\n",
    "\n",
    "weights = {\n",
    "    'h1': tf.Variable(tf.random_normal([n_input, n_hidden_1])),\n",
    "    'h2': tf.Variable(tf.random_normal([n_hidden_1, n_hidden_2])),\n",
    "    'out':tf.Variable(tf.random_normal([n_hidden_2, n_classes]))\n",
    "}"
   ]
  },
  {
   "cell_type": "code",
   "execution_count": 8,
   "metadata": {},
   "outputs": [],
   "source": [
    "biases = {\n",
    "    'b1':tf.Variable(tf.random_normal([n_hidden_1])),\n",
    "    'b2':tf.Variable(tf.random_normal([n_hidden_2])),\n",
    "    'out':tf.Variable(tf.random_normal([n_classes]))\n",
    "}"
   ]
  },
  {
   "cell_type": "code",
   "execution_count": 9,
   "metadata": {},
   "outputs": [],
   "source": [
    "#prediction label\n",
    "pred = multilayer_perceptron(x, weights, biases )"
   ]
  },
  {
   "cell_type": "code",
   "execution_count": 10,
   "metadata": {},
   "outputs": [],
   "source": [
    "# Cost/Loss and Optimizer Functions\n",
    "cost = tf.reduce_mean(tf.nn.softmax_cross_entropy_with_logits_v2(labels=y, logits=pred))\n",
    "optimizer = tf.train.RMSPropOptimizer(learning_rate=learning_rate).minimize(cost)"
   ]
  },
  {
   "cell_type": "code",
   "execution_count": 11,
   "metadata": {},
   "outputs": [],
   "source": [
    "# Initialize global variables\n",
    "init = tf.global_variables_initializer()"
   ]
  },
  {
   "cell_type": "code",
   "execution_count": 12,
   "metadata": {},
   "outputs": [
    {
     "name": "stdout",
     "output_type": "stream",
     "text": [
      "Epoch: 1 cost=53.1235\n",
      "Epoch: 2 cost=8.7332\n",
      "Epoch: 3 cost=4.9324\n",
      "Epoch: 4 cost=3.2947\n",
      "Epoch: 5 cost=2.3490\n",
      "Epoch: 6 cost=1.8559\n",
      "Epoch: 7 cost=1.7183\n",
      "Epoch: 8 cost=1.4234\n",
      "Epoch: 9 cost=1.2816\n",
      "Epoch: 10 cost=1.1000\n",
      "Epoch: 11 cost=0.9833\n",
      "Epoch: 12 cost=0.9647\n",
      "Epoch: 13 cost=0.8839\n",
      "Epoch: 14 cost=0.8879\n",
      "Epoch: 15 cost=0.7261\n",
      "Epoch: 16 cost=0.7395\n",
      "Epoch: 17 cost=0.7330\n",
      "Epoch: 18 cost=0.6754\n",
      "Epoch: 19 cost=0.8335\n",
      "Epoch: 20 cost=0.7831\n",
      "Epoch: 21 cost=0.6484\n",
      "Epoch: 22 cost=0.6862\n",
      "Epoch: 23 cost=0.6424\n",
      "Epoch: 24 cost=0.6370\n",
      "Epoch: 25 cost=0.5871\n",
      "Epoch: 26 cost=0.5855\n",
      "Epoch: 27 cost=0.4992\n",
      "Epoch: 28 cost=0.5574\n",
      "Epoch: 29 cost=0.5579\n",
      "Epoch: 30 cost=0.4794\n",
      "Epoch: 31 cost=0.6173\n",
      "Epoch: 32 cost=0.5142\n",
      "Epoch: 33 cost=0.5038\n",
      "Epoch: 34 cost=0.4563\n",
      "Epoch: 35 cost=0.5083\n",
      "Epoch: 36 cost=0.4393\n",
      "Epoch: 37 cost=0.4399\n",
      "Epoch: 38 cost=0.4229\n",
      "Epoch: 39 cost=0.3988\n",
      "Epoch: 40 cost=0.3362\n",
      "Epoch: 41 cost=0.3776\n",
      "Epoch: 42 cost=0.3848\n",
      "Epoch: 43 cost=0.3902\n",
      "Epoch: 44 cost=0.4146\n",
      "Epoch: 45 cost=0.3151\n",
      "Epoch: 46 cost=0.3929\n",
      "Epoch: 47 cost=0.4222\n",
      "Epoch: 48 cost=0.2602\n",
      "Epoch: 49 cost=0.3606\n",
      "Epoch: 50 cost=0.3535\n",
      "Epoch: 51 cost=0.3118\n",
      "Epoch: 52 cost=0.3404\n",
      "Epoch: 53 cost=0.3103\n",
      "Epoch: 54 cost=0.3011\n",
      "Epoch: 55 cost=0.3215\n",
      "Epoch: 56 cost=0.3623\n",
      "Epoch: 57 cost=0.2315\n",
      "Epoch: 58 cost=0.3312\n",
      "Epoch: 59 cost=0.2936\n",
      "Epoch: 60 cost=0.2850\n",
      "Epoch: 61 cost=0.3491\n",
      "Epoch: 62 cost=0.3073\n",
      "Epoch: 63 cost=0.2724\n",
      "Epoch: 64 cost=0.3321\n",
      "Epoch: 65 cost=0.2653\n",
      "Epoch: 66 cost=0.2419\n",
      "Epoch: 67 cost=0.3102\n",
      "Epoch: 68 cost=0.2916\n",
      "Epoch: 69 cost=0.3011\n",
      "Epoch: 70 cost=0.3219\n",
      "Epoch: 71 cost=0.2635\n",
      "Epoch: 72 cost=0.3465\n",
      "Epoch: 73 cost=0.2714\n",
      "Epoch: 74 cost=0.2155\n",
      "Epoch: 75 cost=0.2431\n",
      "Epoch: 76 cost=0.2474\n",
      "Epoch: 77 cost=0.3139\n",
      "Epoch: 78 cost=0.2370\n",
      "Epoch: 79 cost=0.2574\n",
      "Epoch: 80 cost=0.2499\n",
      "Epoch: 81 cost=0.2296\n",
      "Epoch: 82 cost=0.2283\n",
      "Epoch: 83 cost=0.2424\n",
      "Epoch: 84 cost=0.2301\n",
      "Epoch: 85 cost=0.2339\n",
      "Epoch: 86 cost=0.2090\n",
      "Epoch: 87 cost=0.1517\n",
      "Epoch: 88 cost=0.1899\n",
      "Epoch: 89 cost=0.1243\n",
      "Epoch: 90 cost=0.1732\n",
      "Epoch: 91 cost=0.1707\n",
      "Epoch: 92 cost=0.1587\n",
      "Epoch: 93 cost=0.1808\n",
      "Epoch: 94 cost=0.1137\n",
      "Epoch: 95 cost=0.2548\n",
      "Epoch: 96 cost=0.2153\n",
      "Epoch: 97 cost=0.1691\n",
      "Epoch: 98 cost=0.1887\n",
      "Epoch: 99 cost=0.1700\n",
      "Epoch: 100 cost=0.2132\n",
      "Epoch: 101 cost=0.1583\n",
      "Epoch: 102 cost=0.1555\n",
      "Epoch: 103 cost=0.1778\n",
      "Epoch: 104 cost=0.2272\n",
      "Epoch: 105 cost=0.1781\n",
      "Epoch: 106 cost=0.2369\n",
      "Epoch: 107 cost=0.1944\n",
      "Epoch: 108 cost=0.1945\n",
      "Epoch: 109 cost=0.1920\n",
      "Epoch: 110 cost=0.1246\n",
      "Epoch: 111 cost=0.1964\n",
      "Epoch: 112 cost=0.2311\n",
      "Epoch: 113 cost=0.1520\n",
      "Epoch: 114 cost=0.1566\n",
      "Epoch: 115 cost=0.1891\n",
      "Epoch: 116 cost=0.1648\n",
      "Epoch: 117 cost=0.2112\n",
      "Epoch: 118 cost=0.1790\n",
      "Epoch: 119 cost=0.2236\n",
      "Epoch: 120 cost=0.1744\n",
      "Epoch: 121 cost=0.2029\n",
      "Epoch: 122 cost=0.1208\n",
      "Epoch: 123 cost=0.1781\n",
      "Epoch: 124 cost=0.0937\n",
      "Epoch: 125 cost=0.1619\n",
      "Epoch: 126 cost=0.1334\n",
      "Epoch: 127 cost=0.1648\n",
      "Epoch: 128 cost=0.1653\n",
      "Epoch: 129 cost=0.1581\n",
      "Epoch: 130 cost=0.1379\n",
      "Epoch: 131 cost=0.1161\n",
      "Epoch: 132 cost=0.1092\n",
      "Epoch: 133 cost=0.1555\n",
      "Epoch: 134 cost=0.1036\n",
      "Epoch: 135 cost=0.1156\n",
      "Epoch: 136 cost=0.1579\n",
      "Epoch: 137 cost=0.1143\n",
      "Epoch: 138 cost=0.1963\n",
      "Epoch: 139 cost=0.1713\n",
      "Epoch: 140 cost=0.1786\n",
      "Epoch: 141 cost=0.1948\n",
      "Epoch: 142 cost=0.1720\n",
      "Epoch: 143 cost=0.0805\n",
      "Epoch: 144 cost=0.0769\n",
      "Epoch: 145 cost=0.1316\n",
      "Epoch: 146 cost=0.1228\n",
      "Epoch: 147 cost=0.1100\n",
      "Epoch: 148 cost=0.1700\n",
      "Epoch: 149 cost=0.1194\n",
      "Epoch: 150 cost=0.1299\n",
      "Model has completed 150 Epochs of training\n"
     ]
    }
   ],
   "source": [
    "# Session - run and evaluate\n",
    "\n",
    "sess = tf.InteractiveSession()\n",
    "\n",
    "sess.run(init)\n",
    "with tf.device('/gpu:0'):\n",
    "    for epoch in range(training_epochs):\n",
    "        avg_cost = 0.0\n",
    "        total_batch = int(n_samples/batch_size)\n",
    "\n",
    "        #loop over all batches\n",
    "        for i in range(total_batch):\n",
    "            # grab the next batch for training the data and labels\n",
    "            batch_x, batch_y = mnist.train.next_batch(batch_size)\n",
    "            # feed into the dictionary in order to optimize and minimize loss\n",
    "            _, c = sess.run([optimizer, cost], feed_dict={x:batch_x, y:batch_y})\n",
    "\n",
    "            #compute avg loss\n",
    "            avg_cost += c / total_batch\n",
    "\n",
    "        print(\"Epoch: {} cost={:.4f}\".format(epoch+1, avg_cost))\n",
    "\n",
    "    print(\"Model has completed {} Epochs of training\".format(training_epochs))\n"
   ]
  },
  {
   "cell_type": "code",
   "execution_count": 13,
   "metadata": {},
   "outputs": [],
   "source": [
    "# Model  Testing and Evaluation\n",
    "correct_predictions = tf.equal(tf.argmax(pred, 1), tf.argmax(y, 1))"
   ]
  },
  {
   "cell_type": "code",
   "execution_count": 14,
   "metadata": {},
   "outputs": [
    {
     "name": "stdout",
     "output_type": "stream",
     "text": [
      "Tensor(\"strided_slice:0\", shape=(), dtype=bool)\n"
     ]
    }
   ],
   "source": [
    "print(correct_predictions[0])"
   ]
  },
  {
   "cell_type": "code",
   "execution_count": 15,
   "metadata": {},
   "outputs": [],
   "source": [
    "correct_predictions = tf.cast(correct_predictions, \"float\")\n"
   ]
  },
  {
   "cell_type": "code",
   "execution_count": 16,
   "metadata": {},
   "outputs": [],
   "source": [
    "accuracy = tf.reduce_mean(correct_predictions)\n"
   ]
  },
  {
   "cell_type": "code",
   "execution_count": 17,
   "metadata": {},
   "outputs": [
    {
     "data": {
      "text/plain": [
       "tensorflow.python.framework.ops.Tensor"
      ]
     },
     "execution_count": 17,
     "metadata": {},
     "output_type": "execute_result"
    }
   ],
   "source": [
    "type(accuracy)"
   ]
  },
  {
   "cell_type": "code",
   "execution_count": 18,
   "metadata": {},
   "outputs": [
    {
     "name": "stdout",
     "output_type": "stream",
     "text": [
      "Accuracy: 0.9764\n"
     ]
    }
   ],
   "source": [
    "print(\"Accuracy:\", accuracy.eval({x:mnist.test.images, y:mnist.test.labels}))"
   ]
  },
  {
   "cell_type": "code",
   "execution_count": null,
   "metadata": {},
   "outputs": [],
   "source": []
  },
  {
   "cell_type": "code",
   "execution_count": null,
   "metadata": {},
   "outputs": [],
   "source": []
  }
 ],
 "metadata": {
  "kernelspec": {
   "display_name": "Python 3",
   "language": "python",
   "name": "python3"
  },
  "language_info": {
   "codemirror_mode": {
    "name": "ipython",
    "version": 3
   },
   "file_extension": ".py",
   "mimetype": "text/x-python",
   "name": "python",
   "nbconvert_exporter": "python",
   "pygments_lexer": "ipython3",
   "version": "3.6.5"
  }
 },
 "nbformat": 4,
 "nbformat_minor": 2
}
